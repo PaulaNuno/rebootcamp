{
 "cells": [
  {
   "cell_type": "markdown",
   "metadata": {},
   "source": [
    "## Challenge 2\n",
    "\n",
    "In this challenge you will mine SwitchUp's site (a bootcamp review platform) to retrieve information on the most highly ranked bootcamps. There are five different divisions of bootcamps, each with their own ranking. These are: 'Best Coding Bootcamps', 'Best Online Bootcamps', 'Best Data Science Bootcamps', 'Best Web Design Bootcamps', and 'Best Cyber Security Bootcamps'.  \n",
    "\n",
    "Your task is to scrape information for the top 20 bootcamps on a ranking list. This information should include:  ranking, rating (out of 5), number of reviews, cost (of 4 dollar signs), and the short summary provided by SwitchUp. It is not necessary to include other information.\n",
    "\n",
    "The base url is the following:\n",
    "\n",
    "https://www.switchup.org/rankings/\n",
    "\n",
    "A ranking list can be requested by adding the list name to the end of the url, concatenated by dashes. For example, 'Best Coding Bootcamps' becomes 'best-coding-bootcamps', to be added to complete the url: \n",
    "\n",
    "https://www.switchup.org/rankings/best-coding-bootcamps\n"
   ]
  },
  {
   "cell_type": "markdown",
   "metadata": {},
   "source": [
    "Write a function (or several functions) that do the following:\n",
    "1. Assemble the search url with `SEARCH_URL_TEMPLATE` and `q`, the ranking list you have selected to scrape.\n",
    "2. Make request.\n",
    "3. Return HTML string.\n",
    "4. Parse and extract `ranking`, `rating`, `reviews`, `cost`, and `summary`. Create a dictionary with these fields.\n",
    "5. Return a list of dictionaries.\n",
    "\n",
    "*Hints*\n",
    "\n",
    "* Parse the HTML with libraries such as `BeautifulSoup`. The `parse_html` function should not return strings containing HTML tags.\n",
    "\n",
    "* Test your functions to make sure they work as expected. Your next challenge will depend on your code in this challenge.\n"
   ]
  },
  {
   "cell_type": "code",
   "execution_count": 1,
   "metadata": {},
   "outputs": [],
   "source": [
    "# import necessary libraries\n",
    "import requests as req\n",
    "from bs4 import BeautifulSoup\n",
    "import re\n",
    "\n",
    "\n",
    "SEARCH_URL_TEMPLATE = \"https://www.switchup.org/rankings/\"\n",
    "\n",
    "q = ['best-coding-bootcamps', 'best-online-bootcamps', \n",
    "     'best-data-science-bootcamps', 'best-web-design-bootcamps', \n",
    "     'best-cyber-security-bootcamps']\n"
   ]
  },
  {
   "cell_type": "code",
   "execution_count": 2,
   "metadata": {},
   "outputs": [],
   "source": [
    "# scraping\n",
    "\n",
    "def scraping(label, class_, url):\n",
    "    \n",
    "    res = req.get(url)\n",
    "    soup = BeautifulSoup(res.text, 'html.parser')\n",
    "    scrap = soup.find_all(label, class_=class_)#[0:20]\n",
    "    \n",
    "    return scrap"
   ]
  },
  {
   "cell_type": "code",
   "execution_count": 3,
   "metadata": {
    "scrolled": false
   },
   "outputs": [
    {
     "data": {
      "text/plain": [
       "[<a class=\"logo no-underline\" href=\"/\"> <img alt=\"SwitchUp logo\" class=\"switchup-logo\" src=\"https://d92mrp7hetgfk.cloudfront.net/images/sites/misc/switch_up_logo/original.png?1557790773\"/> </a>,\n",
       " <a class=\"link\" href=\"/\"> switchup </a>,\n",
       " <a class=\"header-desktop\" href=\"/rankings\">Bootcamp Rankings <iron-icon icon=\"utility-icons:chevron-down\"></iron-icon></a>,\n",
       " <a class=\"header-desktop\" href=\"/rankings/best-coding-bootcamps\">Best Coding Bootcamps</a>,\n",
       " <a class=\"header-desktop\" href=\"/rankings/best-online-bootcamps\">Best Online Bootcamps</a>,\n",
       " <a class=\"header-desktop\" href=\"/rankings/best-data-science-bootcamps\">Best Data Science Bootcamps</a>,\n",
       " <a class=\"header-desktop\" href=\"/rankings/best-web-design-bootcamps\">Best Web Design Bootcamps</a>,\n",
       " <a class=\"header-desktop\" href=\"/rankings/best-cyber-security-bootcamps\">Best Cybersecurity Bootcamps</a>,\n",
       " <a class=\"header-desktop\" href=\"/coding-bootcamps-reviews\">Search Bootcamps <iron-icon icon=\"utility-icons:chevron-down\"></iron-icon></a>,\n",
       " <a class=\"header-desktop\" href=\"/coding-bootcamps-reviews\">Compare Bootcamps</a>,\n",
       " <a class=\"header-desktop\" href=\"/rankings#locations\">By Location</a>,\n",
       " <a class=\"header-desktop\" href=\"/subjects\">By Subject</a>,\n",
       " <a class=\"header-desktop\" href=\"/blog\">Blog</a>,\n",
       " <a class=\"header-desktop\" href=\"/write-review\">Write Review</a>,\n",
       " <a href=\"/about\">The SwitchUp Team</a>,\n",
       " <a href=\"https://www.indeed.com/lead/what-employers-think-about-coding-bootcamp\" rel=\"noopener noreferrer\" target=\"_blank\">whopping 84%</a>,\n",
       " <a href=\"/rankings/methodology\" onclick=\"event.preventDefault(); window.open(this.href, 'terms', 'height=500,width=500, scrollbars=1');\" target=\"_BLANK\">here</a>,\n",
       " <a href=\"#faq\">coding education and careers</a>,\n",
       " <a href=\"/rankings/best-online-bootcamps\">Best Online Coding</a>,\n",
       " <a href=\"/rankings/best-data-science-bootcamps\">Best Data Science</a>,\n",
       " <a href=\"/rankings/best-web-design-bootcamps\">Best Web Design</a>,\n",
       " <a href=\"/rankings/best-cyber-security-bootcamps\">Best Cyber Security</a>,\n",
       " <a href=\"/rankings#locations\">Best by Location</a>,\n",
       " <a id=\"faq\"></a>,\n",
       " <a href=\"/bootcamps/skylab-coders-academy\">Skylab Coders Academy</a>,\n",
       " <a href=\"/bootcamps/la-capsule\">La Capsule</a>,\n",
       " <a href=\"/bootcamps/alchemy-code-lab\">Alchemy Code Lab</a>,\n",
       " <a href=\"/bootcamps/tech-elevator\">Tech Elevator</a>,\n",
       " <a href=\"/bootcamps/codeworks\">Codeworks</a>,\n",
       " <a href=\"/bootcamps/mayden-academy\">Mayden Academy</a>,\n",
       " <a href=\"/bootcamps/codingnomads\">CodingNomads</a>,\n",
       " <a href=\"/bootcamps/the-software-guild\">The Software Guild</a>,\n",
       " <a href=\"/bootcamps/rithm-school\">Rithm School</a>,\n",
       " <a href=\"/bootcamps/academia-de-codigo\">Academia de Código</a>,\n",
       " <a href=\"/blog/are-coding-bootcamps-worth-it\">You can learn more about if coding bootcamps are worth it here.</a>,\n",
       " <a href=\"/blog/checklist-your-guide-to-choosing-a-bootcamp\">Your Guide to Choosing a Bootcamp: A Checklist</a>,\n",
       " <a href=\"/match\">\"Get Matched\" tool</a>,\n",
       " <a href=\"/blog/6-tips-for-getting-into-a-top-coding-bootcamp\">6 Tips for Getting into a Top Coding Bootcamp</a>,\n",
       " <a href=\"/blog/bootcamp-scholarship-list\">scholarships</a>,\n",
       " <a href=\"/blog/deferred-tuition-and-isas-a-switchup-guide\">ISA's or deferred tuition</a>,\n",
       " <a href=\"/blog/free-coding-bootcamp-guide\">Free Coding Bootcamp Guide</a>,\n",
       " <a href=\"https://www.indeed.com/lead/what-employers-think-about-coding-bootcamp\" rel=\"noopener noreferrer\" target=\"_blank\">Surveys have shown</a>,\n",
       " <a href=\"/blog/what-jobs-can-you-get-after-a-coding-bootcamp\">our own data</a>,\n",
       " <a href=\"https://www.bls.gov/ooh/computer-and-information-technology/computer-programmers.htm#tab-2\" rel=\"noopener noreferrer\" target=\"_blank\">U.S. Bureau of Labor Statistics (BLS)</a>,\n",
       " <a href=\"/match\">Get Matched tool</a>,\n",
       " <a id=\"methodology\"></a>,\n",
       " <a href=\"/rankings/methodology\" onclick=\"event.preventDefault(); window.open(this.href, 'terms', 'height=500,width=500, scrollbars=1');\" target=\"_BLANK\">full ranking methodology</a>,\n",
       " <a id=\"highlights\"></a>,\n",
       " <a href=\"https://inquiry.vba.va.gov/weamspub/buildSearchInstitutionCriteria.do\" rel=\"noopener noreferrer\" target=\"_blank\">U.S. Department of Veteran Affairs</a>,\n",
       " <a href=\"https://www.va.gov/education/about-gi-bill-benefits/how-to-use-benefits/vettec-high-tech-program/\" rel=\"noopener noreferrer\" target=\"_blank\">VET TEC Provider</a>,\n",
       " <a href=\"/about\">About</a>,\n",
       " <a href=\"/contact\">Contact Us</a>,\n",
       " <a href=\"/schools\">For Schools</a>,\n",
       " <a href=\"/press\">Press</a>,\n",
       " <a href=\"/privacy\">Privacy</a>,\n",
       " <a href=\"/terms\">Terms</a>,\n",
       " <a href=\"/ethics\">Ethics</a>,\n",
       " <a href=\"/rankings/coding-bootcamp-survey\">Survey Data</a>,\n",
       " <a href=\"/privacy-policy-california\" target=\"_blank\">Do not sell my info</a>,\n",
       " <a href=\"/\"> <image-tag css-templates='{\"image-tag\":\"image-tag/switchup-logo\"}' html-opts='{\"class\":\"switchup-logo\"}' tags=\"switch_up_logo\"></image-tag> </a>,\n",
       " <a class=\"logo-link no-underline\" href=\"/\"> switchup </a>,\n",
       " <a href=\"/about\">About</a>,\n",
       " <a href=\"/contact\">Contact Us</a>,\n",
       " <a href=\"/schools\">For Schools</a>,\n",
       " <a href=\"/press\">Press</a>,\n",
       " <a href=\"/privacy\">Privacy</a>,\n",
       " <a href=\"/terms\">Terms</a>,\n",
       " <a href=\"/ethics\">Ethics</a>,\n",
       " <a href=\"/rankings/coding-bootcamp-survey\">Survey Data</a>,\n",
       " <a href=\"/privacy-policy-california\" target=\"_blank\">Do not sell my info</a>,\n",
       " <a href=\"/match?source=PopupCTA\"> <span class=\"event-wrapper\" data-et-action=\"click\" data-et-category=\"get-matched__popup\" data-et-label$=\"[[pageData.path]]\" data-trigger-event=\"click\" data-trigger-target=\"#get-matched\"> <paper-button class=\"btn btn--primary mdc-dialog__button\" data-mdc-dialog-action=\"accept\" id=\"get-matched\" raised=\"\" type=\"button\"> <span class=\"mdc-button__label\">Match Me</span> </paper-button> </span> </a>,\n",
       " <a>No thanks</a>]"
      ]
     },
     "execution_count": 3,
     "metadata": {},
     "output_type": "execute_result"
    }
   ],
   "source": [
    "res = req.get('https://www.switchup.org/rankings/best-coding-bootcamps')\n",
    "soup = BeautifulSoup(res.text, 'html.parser')\n",
    "scrap = soup.find_all('a')\n",
    "\n",
    "scrap"
   ]
  },
  {
   "cell_type": "code",
   "execution_count": null,
   "metadata": {},
   "outputs": [],
   "source": [
    "# ranking\n",
    "\n",
    "def ranking():\n",
    "    lst = []\n",
    "    for i in range(len(q)):\n",
    "        rank=scraping('span', 'ranking-item__rating--count', SEARCH_URL_TEMPLATE + q[i])\n",
    "        for j in range(len(rank)):\n",
    "            lst.append(j+1)\n",
    "        \n",
    "    return lst"
   ]
  },
  {
   "cell_type": "code",
   "execution_count": null,
   "metadata": {},
   "outputs": [],
   "source": [
    "# rating\n",
    "\n",
    "def rating():\n",
    "    lst = []\n",
    "    for i in range(len(q)):\n",
    "        rate = scraping('span', 'ranking-item__rating--value', SEARCH_URL_TEMPLATE + q[i])\n",
    "        for j in range(len(rate)):\n",
    "            lst.append(float(re.findall('\\d.\\d+',str(rate[j]))[0]))\n",
    "    \n",
    "    return lst"
   ]
  },
  {
   "cell_type": "code",
   "execution_count": null,
   "metadata": {},
   "outputs": [],
   "source": [
    "# reviews\n",
    "\n",
    "def reviews():\n",
    "    lst = []\n",
    "    for i in range(len(q)):\n",
    "        rev=scraping('span', 'ranking-item__rating--count', SEARCH_URL_TEMPLATE + q[i])\n",
    "        for j in range(len(rev)):\n",
    "            lst.append(re.sub(',', '', (re.findall('[0-9,]+',str(rev[j]))[0])))\n",
    "    \n",
    "    return lst   "
   ]
  },
  {
   "cell_type": "code",
   "execution_count": null,
   "metadata": {},
   "outputs": [],
   "source": [
    "# $$$$\n",
    "\n",
    "def cost():\n",
    "    lst = []\n",
    "    for i in range(len(q)):\n",
    "        c=scraping('div', 'ranking-item__price', SEARCH_URL_TEMPLATE + q[i])\n",
    "        for j in range(len(c)):\n",
    "            lst.append(len(re.findall('filled', str(c[j]))))\n",
    "            \n",
    "    return lst"
   ]
  },
  {
   "cell_type": "code",
   "execution_count": null,
   "metadata": {},
   "outputs": [],
   "source": [
    "# summary\n",
    "\n",
    "def summary():\n",
    "    lst = []\n",
    "    for i in range(len(q)):\n",
    "        summ=scraping('div', 'ranking-item__desc', SEARCH_URL_TEMPLATE + q[i])\n",
    "        for j in range(len(summ)):\n",
    "            lst.append(re.sub('\\n', '', str(summ[j].text)).lstrip().rstrip())\n",
    "    \n",
    "    return lst"
   ]
  },
  {
   "cell_type": "code",
   "execution_count": null,
   "metadata": {},
   "outputs": [],
   "source": [
    "# build function(s)\n",
    "\n",
    "def return_results():\n",
    "    rank = ranking()\n",
    "    rate = rating()\n",
    "    rev = reviews()\n",
    "    c = cost()\n",
    "    s = summary()\n",
    "    result=[{'ranking':rank[i], 'rating':rate[i], \n",
    "             'reviews':rev[i], 'cost':c[i], 'summary':s[i]} for i in range(len(s))]\n",
    "    \n",
    "    return result"
   ]
  },
  {
   "cell_type": "code",
   "execution_count": null,
   "metadata": {},
   "outputs": [],
   "source": [
    "\n",
    "print (ranking())\n",
    "print (rating())\n",
    "print (reviews())\n",
    "print (cost())\n",
    "print (summary())\n"
   ]
  },
  {
   "cell_type": "code",
   "execution_count": null,
   "metadata": {},
   "outputs": [],
   "source": [
    "\n",
    "print (type(ranking()[0]))   # <class 'int'>\n",
    "print (type(rating()[0]))    # <class 'float'>\n",
    "print (type(reviews()[0]))   # <class 'str'>\n",
    "print (type(cost()[0]))      # <class 'int'>\n",
    "print (type(summary()[0]))   # <class 'str'>\n"
   ]
  },
  {
   "cell_type": "markdown",
   "metadata": {},
   "source": [
    "## Challenge 3\n",
    "\n",
    "### Preparation\n",
    "\n",
    "1. Install MySQL and MySQL connector for Python if your dev machine doesn't have them.\n",
    "2. Start MySQL server on your computer. \n",
    "3. Create a new empty database. \n",
    "4. Create a new table. Here is some **example** code, similar to that which you might want to use:\n",
    "    ```sql\n",
    "    CREATE TABLE `search_results` (\n",
    "      `ranking` tinyint NOT NULL,\n",
    "      `rating` decimal(5,2) NOT NULL,\n",
    "      `reviews` text NOT NULL,\n",
    "      `cost` int NOT NULL,\n",
    "      `summary` text NOT NULL\n",
    "    ) ENGINE=InnoDB DEFAULT CHARSET=utf8mb4 COLLATE=utf8mb4_general_ci;\n",
    "    ```\n",
    "\n",
    "\n",
    "### Challenge\n",
    "\n",
    "Leveraging from the code you wrote in Challenge 2, scrape information about the top 20 bootcamps each of the 5 ranking lists. Again, the lists are: \n",
    "\n",
    "* Best Coding Bootcamps\n",
    "* Best Online Bootcamps\n",
    "* Best Data Science Bootcamps\n",
    "* Best Web Design Bootcamps\n",
    "* Best Cyber Security Bootcamps\n",
    "\n",
    "\n",
    "Your task is to store **up to 20 search results** for **each list** above into the database table named ``search_results``. Paste or import the code you wrote in challenge 2. Be sure to modify that code to include the titel of the bootcamp ranking list in the database! \n",
    "\n",
    "Complete your code in the cell below."
   ]
  },
  {
   "cell_type": "code",
   "execution_count": null,
   "metadata": {},
   "outputs": [],
   "source": [
    "#pip3 install mysql-connector-python"
   ]
  },
  {
   "cell_type": "code",
   "execution_count": null,
   "metadata": {},
   "outputs": [],
   "source": [
    "import mysql.connector"
   ]
  },
  {
   "cell_type": "code",
   "execution_count": null,
   "metadata": {},
   "outputs": [],
   "source": [
    "results=return_results()\n",
    "results[0]"
   ]
  },
  {
   "cell_type": "code",
   "execution_count": null,
   "metadata": {},
   "outputs": [],
   "source": [
    "# there is no 20 elements in each list, so i need to find the maximum in every range.\n",
    "\n",
    "q = ['best-coding-bootcamps', 'best-online-bootcamps', \n",
    "     'best-data-science-bootcamps', 'best-web-design-bootcamps', \n",
    "     'best-cyber-security-bootcamps']\n",
    "\n",
    "\n",
    "bootcamps_types=[q[0]]*max(ranking()[:20])\n",
    "bootcamps_types+=[q[1]]*max(ranking()[20:40])\n",
    "bootcamps_types+=[q[2]]*max(ranking()[40:60])\n",
    "bootcamps_types+=[q[3]]*max(ranking()[60:80])\n",
    "bootcamps_types+=[q[4]]*ranking()[-1]"
   ]
  },
  {
   "cell_type": "code",
   "execution_count": null,
   "metadata": {},
   "outputs": [],
   "source": [
    "# now, update the dictionaries\n",
    "\n",
    "for i in range(len(results)):\n",
    "    results[i].update({'bootcamp_type': bootcamps_types[i]})\n",
    "\n",
    "results[0]"
   ]
  },
  {
   "cell_type": "code",
   "execution_count": null,
   "metadata": {},
   "outputs": [],
   "source": [
    "# create sql database\n",
    "\n",
    "create_db = mysql.connector.connect(host='localhost', user='admin', passwd='password')\n",
    "\n",
    "cursor = create_db.cursor()\n",
    "\n",
    "cursor.execute('drop database if exists Q3')\n",
    "cursor.execute('create database Q3')"
   ]
  },
  {
   "cell_type": "code",
   "execution_count": null,
   "metadata": {},
   "outputs": [],
   "source": [
    "# checking\n",
    "\n",
    "cursor.execute('show databases')\n",
    "for x in cursor:\n",
    "  print(x) "
   ]
  },
  {
   "cell_type": "code",
   "execution_count": null,
   "metadata": {},
   "outputs": [],
   "source": [
    "# connect to database\n",
    "\n",
    "db = mysql.connector.connect(host='localhost', user='admin', passwd='password', database='Q3')\n",
    "\n",
    "cursor = db.cursor()"
   ]
  },
  {
   "cell_type": "code",
   "execution_count": null,
   "metadata": {},
   "outputs": [],
   "source": [
    "# create table\n",
    "\n",
    "\n",
    "cursor.execute('use Q3;')\n",
    "\n",
    "cursor.execute(\"drop table if exists search_results;\") \n",
    "\n",
    "table = '''create table search_results(\n",
    "           ranking tinyint, \n",
    "           rating float,\n",
    "           reviews int, \n",
    "           cost int, \n",
    "           summary text,\n",
    "           bootcamp_type text);'''\n",
    "\n",
    "cursor.execute(table)\n"
   ]
  },
  {
   "cell_type": "code",
   "execution_count": null,
   "metadata": {},
   "outputs": [],
   "source": [
    "# checking\n",
    "\n",
    "cursor.execute('show tables')\n",
    "for x in cursor:\n",
    "  print(x) "
   ]
  },
  {
   "cell_type": "code",
   "execution_count": null,
   "metadata": {},
   "outputs": [],
   "source": [
    "# insert query\n",
    "for i in range(len(results)):\n",
    "    insert_query = 'insert into {} ({}) values {};'\\\n",
    "                   .format('search_results', ','.join(results[i].keys()), tuple(results[i].values()))\n",
    "\n",
    "    cursor.execute(insert_query)\n",
    "    \n",
    "db.commit()"
   ]
  },
  {
   "cell_type": "code",
   "execution_count": null,
   "metadata": {},
   "outputs": [],
   "source": [
    "# checking\n",
    "\n",
    "cursor.execute('select * from search_results limit 2')\n",
    "for x in cursor:\n",
    "  print(x) "
   ]
  },
  {
   "cell_type": "markdown",
   "metadata": {},
   "source": [
    "## Challenge 4\n",
    "\n",
    "Now, use Pandas to read the search results data in your MySQL tables. Create a DataFrame that contains all the search results, then generate a data visualization plot (or several) from the DataFrame.\n",
    "\n",
    "It doesn't matter what data visualization plot you generate. This challenge means to let you showcase your familarity with the Pandas library and data visualization. You can generate a simple bar plot or a word cloud or anything else you would like, but be sure that the plots provide some meaningful information or insight about the data.\n",
    "\n",
    "Write the Python code in the cell below:"
   ]
  },
  {
   "cell_type": "code",
   "execution_count": null,
   "metadata": {},
   "outputs": [],
   "source": [
    "import mysql.connector \n",
    "import pandas as pd                   \n",
    "import matplotlib.pyplot as plt\n",
    "import seaborn as sns\n",
    "\n",
    "\n",
    "db = mysql.connector.connect(host='localhost', user='admin', passwd='password', database='Q3')\n",
    "\n",
    "cursor = db.cursor()\n",
    "\n",
    "cursor.execute('select * from search_results')\n",
    "\n",
    "data = cursor.fetchall()"
   ]
  },
  {
   "cell_type": "code",
   "execution_count": null,
   "metadata": {},
   "outputs": [],
   "source": [
    "df = pd.DataFrame(data, columns=cursor.column_names)\n",
    "\n",
    "print ('Data readed from MySQL.')\n",
    "\n",
    "display (df.head())"
   ]
  },
  {
   "cell_type": "code",
   "execution_count": null,
   "metadata": {},
   "outputs": [],
   "source": [
    "df.info()"
   ]
  },
  {
   "cell_type": "code",
   "execution_count": null,
   "metadata": {},
   "outputs": [],
   "source": [
    "df.describe()"
   ]
  },
  {
   "cell_type": "code",
   "execution_count": null,
   "metadata": {},
   "outputs": [],
   "source": [
    "plt.figure(figsize=(15,10))\n",
    "plt.title('Correlation')\n",
    "sns.heatmap(df.corr(), annot=True)"
   ]
  },
  {
   "cell_type": "markdown",
   "metadata": {},
   "source": [
    "It's interesting to observe the negative correlation between the rating and the cost, if the cost is higher the rating is lower and viceversa. The negative correlation between ranking and reviews is correct, because the ranking is increasing."
   ]
  },
  {
   "cell_type": "code",
   "execution_count": null,
   "metadata": {},
   "outputs": [],
   "source": [
    "def subplots(field):\n",
    "    fig=plt.figure(figsize=(15,10))\n",
    "    fig.subplots_adjust(hspace=0.7, wspace=0.4)\n",
    "    plt.suptitle('Plots of {}'.format(field))\n",
    "    plt.subplot(321)\n",
    "    plt.title('best-coding-bootcamps')\n",
    "    df.loc[df.bootcamp_type=='best-coding-bootcamps']['{}'.format(field)].plot.bar()\n",
    "    plt.subplot(322)\n",
    "    plt.title('best-online-bootcamps')\n",
    "    df.loc[df.bootcamp_type=='best-online-bootcamps']['{}'.format(field)].plot.bar()\n",
    "    plt.subplot(323)\n",
    "    plt.title('best-data-science-bootcamps')\n",
    "    df.loc[df.bootcamp_type=='best-data-science-bootcamps']['{}'.format(field)].plot.bar()\n",
    "    plt.subplot(324)\n",
    "    plt.title('best-web-design-bootcamps')\n",
    "    df.loc[df.bootcamp_type=='best-web-design-bootcamps']['{}'.format(field)].plot.bar()\n",
    "    plt.subplot(325)\n",
    "    plt.title('best-cyber-security-bootcamps')\n",
    "    df.loc[df.bootcamp_type=='best-cyber-security-bootcamps']['{}'.format(field)].plot.bar()\n",
    "    plt.show()"
   ]
  },
  {
   "cell_type": "code",
   "execution_count": null,
   "metadata": {},
   "outputs": [],
   "source": [
    "subplots('reviews')"
   ]
  },
  {
   "cell_type": "markdown",
   "metadata": {},
   "source": [
    "The best of the best bootcamps have more reviews. The coding bootcamps have more reviews than other kinds of bootcamps."
   ]
  },
  {
   "cell_type": "code",
   "execution_count": null,
   "metadata": {},
   "outputs": [],
   "source": [
    "subplots('cost')"
   ]
  },
  {
   "cell_type": "markdown",
   "metadata": {},
   "source": [
    "In general, the best bootcamps are not the most expensive."
   ]
  },
  {
   "cell_type": "code",
   "execution_count": null,
   "metadata": {},
   "outputs": [],
   "source": [
    "subplots('rating')"
   ]
  },
  {
   "cell_type": "markdown",
   "metadata": {},
   "source": [
    "There is no bootcamp with a rating less than 4 over 5. "
   ]
  },
  {
   "cell_type": "code",
   "execution_count": null,
   "metadata": {},
   "outputs": [],
   "source": []
  }
 ],
 "metadata": {
  "kernelspec": {
   "display_name": "Python 3",
   "language": "python",
   "name": "python3"
  },
  "language_info": {
   "codemirror_mode": {
    "name": "ipython",
    "version": 3
   },
   "file_extension": ".py",
   "mimetype": "text/x-python",
   "name": "python",
   "nbconvert_exporter": "python",
   "pygments_lexer": "ipython3",
   "version": "3.8.3"
  }
 },
 "nbformat": 4,
 "nbformat_minor": 2
}
