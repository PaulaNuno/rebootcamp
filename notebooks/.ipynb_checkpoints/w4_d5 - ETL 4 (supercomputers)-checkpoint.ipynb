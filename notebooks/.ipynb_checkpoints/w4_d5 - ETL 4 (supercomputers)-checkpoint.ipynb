{
 "cells": [
  {
   "cell_type": "markdown",
   "metadata": {},
   "source": [
    "# TOP 500 supercomputer mining - Challenge 1\n",
    "\n",
    "# 1-A\n",
    "\n",
    "In this challenge you will mine top500 website to retrieve information on the most powerfull supercomputer of the last years.\n",
    "\n",
    "Your task is to scrape information for the top 500 supercomputers from 2014 to 2018. The information should include:\n",
    "\n",
    "* **Rank**\n",
    "\n",
    "* **Name**\n",
    "\n",
    "* **Year**\n",
    "\n",
    "* **Description**\n",
    "\n",
    "* **Company**\n",
    "\n",
    "* **Country**\n",
    "\n",
    "* **Cores**\n",
    "\n",
    "* **RMax (TFlops/s)**\n",
    "\n",
    "* **RPeak (TFlops/s)**\n",
    "\n",
    "* **Power (kW)**\n",
    "\n",
    "\n",
    "The root url is the following:\n",
    "https://www.top500.org/\n",
    "\n",
    "\n",
    "You need to navigate the web in order to extract all information for 2500 supercomputers. As an example, the first urls are:\n",
    "\n",
    "https://www.top500.org/lists/2014/11/?page=1\n",
    "\n",
    "\n",
    "https://www.top500.org/list/2014/11/?page=2\n",
    "\n",
    "\n",
    "\n",
    "Write code that do the following:\n",
    "1. Look for the url to scrape.\n",
    "2. Make request.\n",
    "3. Return HTML string.\n",
    "4. Parse and extract all features. Create a dictionary with these fields.\n",
    "5. Return a list of dictionaries.\n",
    "\n"
   ]
  },
  {
   "cell_type": "code",
   "execution_count": 1,
   "metadata": {},
   "outputs": [],
   "source": [
    "# Your code here"
   ]
  },
  {
   "cell_type": "code",
   "execution_count": 1,
   "metadata": {},
   "outputs": [],
   "source": [
    "# import libraries\n",
    "import requests as req\n",
    "from bs4 import BeautifulSoup\n",
    "import re\n",
    "import mysql.connector"
   ]
  },
  {
   "cell_type": "code",
   "execution_count": 18,
   "metadata": {},
   "outputs": [],
   "source": [
    "# urls\n",
    "\n",
    "URL='https://www.top500.org/lists/top500/'\n",
    "\n",
    "\n",
    "top_lst=['2014/11/?page=1', \n",
    "         '2014/11/?page=2',\n",
    "         '2014/11/?page=3',\n",
    "         '2014/11/?page=4',\n",
    "         '2014/11/?page=5',\n",
    "         '2015/11/?page=1', \n",
    "         '2015/11/?page=2',\n",
    "         '2015/11/?page=3',\n",
    "         '2015/11/?page=4',\n",
    "         '2015/11/?page=5',\n",
    "         '2016/11/?page=1', \n",
    "         '2016/11/?page=2',\n",
    "         '2016/11/?page=3',\n",
    "         '2016/11/?page=4',\n",
    "         '2016/11/?page=5',\n",
    "         '2017/11/?page=1', \n",
    "         '2017/11/?page=2',\n",
    "         '2017/11/?page=3',\n",
    "         '2017/11/?page=4',\n",
    "         '2017/11/?page=5',\n",
    "         '2018/11/?page=1', \n",
    "         '2018/11/?page=2',\n",
    "         '2018/11/?page=3',\n",
    "         '2018/11/?page=4',\n",
    "         '2018/11/?page=5']\n",
    "\n",
    "\n"
   ]
  },
  {
   "cell_type": "code",
   "execution_count": 19,
   "metadata": {},
   "outputs": [],
   "source": [
    "# scraping\n",
    "\n",
    "def scraping(label, url):\n",
    "    \n",
    "    res = req.get(url)\n",
    "    soup = BeautifulSoup(res.text, 'html.parser')\n",
    "    scrap = soup.find_all(label)\n",
    "    \n",
    "    return scrap"
   ]
  },
  {
   "cell_type": "code",
   "execution_count": 20,
   "metadata": {},
   "outputs": [],
   "source": [
    "# all info tables\n",
    "\n",
    "def all_tables(url_lst):\n",
    "    \n",
    "    lst=[]\n",
    "    \n",
    "    for i in range(len(url_lst)):\n",
    "        table=scraping('td', URL+url_lst[i])\n",
    "        for j in range(len(table)):\n",
    "            data=table[j]\n",
    "            lst.append(data)\n",
    "        \n",
    "    return lst"
   ]
  },
  {
   "cell_type": "code",
   "execution_count": 21,
   "metadata": {},
   "outputs": [],
   "source": [
    "info=all_tables(top_lst)"
   ]
  },
  {
   "cell_type": "code",
   "execution_count": 22,
   "metadata": {},
   "outputs": [],
   "source": [
    "# ranking\n",
    "\n",
    "def ranking(lst):\n",
    "    \n",
    "    rank=[]\n",
    "    \n",
    "    for e in lst:\n",
    "        s=str(e).split('span')\n",
    "        if len(s)==3:\n",
    "            rank.append(int(re.findall('[0-9]+',str(str(e).split('span')[1]))[0]))\n",
    "    \n",
    "    return rank"
   ]
  },
  {
   "cell_type": "code",
   "execution_count": 23,
   "metadata": {},
   "outputs": [],
   "source": [
    "# name \n",
    "\n",
    "def name(lst):\n",
    "    \n",
    "    n=[]\n",
    "    \n",
    "    for i in range(len(lst)):\n",
    "        s=str(lst[i]).split('span')\n",
    "        if len(s)==3:\n",
    "            prov=(str(lst[i+2]).split('<a href')[1].split(',')[0].split('>')[1:])\n",
    "            if len(prov[0])==3:\n",
    "                n.append(prov[1].split('<')[0])\n",
    "            else:\n",
    "                n.append(prov[0])\n",
    "    \n",
    "    return n"
   ]
  },
  {
   "cell_type": "code",
   "execution_count": 24,
   "metadata": {},
   "outputs": [],
   "source": [
    "# year\n",
    "\n",
    "def year():\n",
    "    \n",
    "    y=[]\n",
    "\n",
    "    for i in range(2500):\n",
    "        if i<500: y.append(2014)\n",
    "        if i>=500 and i<1000: y.append(2015)\n",
    "        if i>=1000 and i<1500: y.append(2016)\n",
    "        if i>=1500 and i<2000: y.append(2017)\n",
    "        if i>=2000 and i<2500: y.append(2018)\n",
    "            \n",
    "    return y\n",
    "    "
   ]
  },
  {
   "cell_type": "code",
   "execution_count": 25,
   "metadata": {},
   "outputs": [],
   "source": [
    "# description\n",
    "\n",
    "def description(lst):\n",
    "    \n",
    "    d=[]\n",
    "\n",
    "    for i in range(len(lst)):\n",
    "        s=str(lst[i]).split('span')\n",
    "        if len(s)==3:\n",
    "            place=str(lst[i+1]).split('>')[-4].split('<')[0]\n",
    "            model=str(lst[i+2]).split(',')[0].split('>')[-1].split(' ')[-1]\n",
    "            rest=str(lst[i+2]).split(',')[1:]\n",
    "            \n",
    "            if len(rest)==0:\n",
    "                d.append(place+' '+model)\n",
    "            elif len(rest)>1:\n",
    "                d.append(place+' '+model+' '+rest[0]+' '+rest[1].split('\\n')[0])\n",
    "            else:\n",
    "                d.append(place+' '+model+' '+rest[0])\n",
    "    \n",
    "    return d"
   ]
  },
  {
   "cell_type": "code",
   "execution_count": 26,
   "metadata": {},
   "outputs": [],
   "source": [
    "# company\n",
    "\n",
    "def company(lst):\n",
    "    \n",
    "    c=[]\n",
    "    \n",
    "    for i in range(len(lst)):\n",
    "        s=str(lst[i]).split('span')\n",
    "        if len(s)==3:\n",
    "            c.append(str(lst[i+2]).split(',')[-1].split('</br')[-2].split('>')[-1])\n",
    "            \n",
    "    return c"
   ]
  },
  {
   "cell_type": "code",
   "execution_count": 27,
   "metadata": {},
   "outputs": [],
   "source": [
    "# country\n",
    "\n",
    "def country(lst):\n",
    "    \n",
    "    co=[]\n",
    "    \n",
    "    for i in range(len(lst)):\n",
    "        s=str(lst[i]).split('span')\n",
    "        if len(s)==3:\n",
    "            co.append(str(lst[i+1]).split('>')[-2].split('<')[0])\n",
    "    \n",
    "    return co"
   ]
  },
  {
   "cell_type": "code",
   "execution_count": 28,
   "metadata": {},
   "outputs": [],
   "source": [
    "# cores\n",
    "\n",
    "def cores(lst):\n",
    "    \n",
    "    cor=[]\n",
    "    \n",
    "    for i in range(len(lst)):\n",
    "        s=str(lst[i]).split('span')\n",
    "        if len(s)==3:\n",
    "            prov=re.sub(',', '', str(lst[i+3]))\n",
    "            cor.append(int(re.findall('[0-9.]+',prov)[0]))\n",
    "    \n",
    "    return cor"
   ]
  },
  {
   "cell_type": "code",
   "execution_count": 29,
   "metadata": {},
   "outputs": [],
   "source": [
    "# RMax (TFlops/s)\n",
    "\n",
    "def r_max(lst):\n",
    "    \n",
    "    r=[]\n",
    "    \n",
    "    for i in range(len(lst)):\n",
    "        s=str(lst[i]).split('span')\n",
    "        if len(s)==3:\n",
    "            prov=re.sub(',', '', str(lst[i+4]))\n",
    "            r.append(float(re.findall('[0-9.]+',prov)[0]))\n",
    "    \n",
    "    return r"
   ]
  },
  {
   "cell_type": "code",
   "execution_count": 30,
   "metadata": {},
   "outputs": [],
   "source": [
    "# RPeak (TFlops/s)\n",
    "\n",
    "def r_peak(lst):\n",
    "    \n",
    "    r=[]\n",
    "    \n",
    "    for i in range(len(lst)):\n",
    "        s=str(lst[i]).split('span')\n",
    "        if len(s)==3:\n",
    "            prov=re.sub(',', '', str(lst[i+5]))\n",
    "            r.append(float(re.findall('[0-9.]+',prov)[0]))\n",
    "    \n",
    "    return r"
   ]
  },
  {
   "cell_type": "code",
   "execution_count": 31,
   "metadata": {},
   "outputs": [],
   "source": [
    "# power (kW)\n",
    "\n",
    "def power(lst):\n",
    "    \n",
    "    p=[]\n",
    "    \n",
    "    for i in range(len(lst)):\n",
    "        s=str(lst[i]).split('span')\n",
    "        if len(s)==3:\n",
    "            prov=re.sub(',', '', str(lst[i+6]))\n",
    "            number=re.findall('[0-9.]+',prov)\n",
    "            if number==[]:\n",
    "                p.append(0)\n",
    "            else:\n",
    "                p.append(int(number[0]))\n",
    "            \n",
    "    return p"
   ]
  },
  {
   "cell_type": "code",
   "execution_count": 32,
   "metadata": {},
   "outputs": [],
   "source": [
    "# top supercomputers\n",
    "\n",
    "def top_500():\n",
    "    \n",
    "    ran = ranking(info)\n",
    "    n = name(info)\n",
    "    y = year()\n",
    "    desc = description(info)\n",
    "    com = company(info)\n",
    "    coun = country(info)\n",
    "    cor = cores(info)\n",
    "    rmax = r_max(info)\n",
    "    rpeak = r_peak(info)\n",
    "    po = power(info)\n",
    "    \n",
    "    \n",
    "    result=[{'ranking':ran[i], 'name':n[i], 'year':y[i], \n",
    "             'description':desc[i], 'company':com[i], 'country':coun[i],\n",
    "             'cores':cor[i], 'rmax':rmax[i],\n",
    "             'rpeak':rpeak[i], 'power':po[i]} for i in range(len(ran))]\n",
    "    \n",
    "    return result"
   ]
  },
  {
   "cell_type": "code",
   "execution_count": 33,
   "metadata": {},
   "outputs": [
    {
     "ename": "IndexError",
     "evalue": "list index out of range",
     "output_type": "error",
     "traceback": [
      "\u001b[0;31m---------------------------------------------------------------------------\u001b[0m",
      "\u001b[0;31mIndexError\u001b[0m                                Traceback (most recent call last)",
      "\u001b[0;32m<ipython-input-33-de5180d3b254>\u001b[0m in \u001b[0;36m<module>\u001b[0;34m\u001b[0m\n\u001b[1;32m      1\u001b[0m \u001b[0;31m# checking\u001b[0m\u001b[0;34m\u001b[0m\u001b[0;34m\u001b[0m\u001b[0;34m\u001b[0m\u001b[0m\n\u001b[1;32m      2\u001b[0m \u001b[0;34m\u001b[0m\u001b[0m\n\u001b[0;32m----> 3\u001b[0;31m \u001b[0mtop_500\u001b[0m\u001b[0;34m(\u001b[0m\u001b[0;34m)\u001b[0m\u001b[0;34m[\u001b[0m\u001b[0;34m-\u001b[0m\u001b[0;36m1\u001b[0m\u001b[0;34m]\u001b[0m\u001b[0;34m\u001b[0m\u001b[0;34m\u001b[0m\u001b[0m\n\u001b[0m",
      "\u001b[0;31mIndexError\u001b[0m: list index out of range"
     ]
    }
   ],
   "source": [
    "# checking\n",
    "\n",
    "top_500()[-1]"
   ]
  },
  {
   "cell_type": "markdown",
   "metadata": {},
   "source": [
    "\n",
    "# 1-B\n",
    "\n",
    "\n",
    "When you complete this task, you need to save the information in a SQL database. For that:\n",
    "1. Install MySQL and MySQL connector for Python.\n",
    "2. Start MySQL server on your computer. \n",
    "3. Create a new empty database. \n",
    "4. Create a table for store the data. As an example, the table could be:\n",
    " ```sql\n",
    "   CREATE TABLE top_500(\n",
    "           ranking int,\n",
    "           name text, \n",
    "           year int,\n",
    "           description text,\n",
    "           company text,\n",
    "           country text, \n",
    "           cores int, \n",
    "           rmax float,\n",
    "           rpeak float,\n",
    "           power int);\n",
    "```"
   ]
  },
  {
   "cell_type": "code",
   "execution_count": 19,
   "metadata": {},
   "outputs": [],
   "source": [
    "# Your code here"
   ]
  },
  {
   "cell_type": "code",
   "execution_count": 20,
   "metadata": {},
   "outputs": [],
   "source": [
    "# results\n",
    "\n",
    "results=top_500()"
   ]
  },
  {
   "cell_type": "code",
   "execution_count": 21,
   "metadata": {},
   "outputs": [
    {
     "data": {
      "text/plain": [
       "{'ranking': 1,\n",
       " 'name': 'Tianhe-2A',\n",
       " 'year': 2014,\n",
       " 'description': 'National Super Computer Center in Guangzhou Cluster  Intel Xeon E5-2692 12C 2.200GHz  TH Express-2',\n",
       " 'company': 'NUDT',\n",
       " 'country': 'China',\n",
       " 'cores': 3120000,\n",
       " 'rmax': 33862.7,\n",
       " 'rpeak': 54902.4,\n",
       " 'power': 17808}"
      ]
     },
     "execution_count": 21,
     "metadata": {},
     "output_type": "execute_result"
    }
   ],
   "source": [
    "# checking\n",
    "\n",
    "results[0]"
   ]
  },
  {
   "cell_type": "code",
   "execution_count": 22,
   "metadata": {},
   "outputs": [],
   "source": [
    "# create sql database\n",
    "\n",
    "create_db = mysql.connector.connect(host='localhost', user='admin', passwd='password')\n",
    "\n",
    "cursor = create_db.cursor()\n",
    "\n",
    "cursor.execute('drop database if exists SuperComputers')\n",
    "cursor.execute('create database SuperComputers')"
   ]
  },
  {
   "cell_type": "code",
   "execution_count": 23,
   "metadata": {},
   "outputs": [
    {
     "name": "stdout",
     "output_type": "stream",
     "text": [
      "('information_schema',)\n",
      "('Apps',)\n",
      "('Q3',)\n",
      "('SuperComputers',)\n",
      "('lab-mysql',)\n",
      "('mydb',)\n",
      "('mysql',)\n",
      "('performance_schema',)\n",
      "('publis',)\n",
      "('sys',)\n"
     ]
    }
   ],
   "source": [
    "# checking\n",
    "\n",
    "cursor.execute('show databases')\n",
    "for x in cursor:\n",
    "  print(x) "
   ]
  },
  {
   "cell_type": "code",
   "execution_count": 24,
   "metadata": {},
   "outputs": [],
   "source": [
    "# connect to database\n",
    "\n",
    "db = mysql.connector.connect(host='localhost', user='admin', passwd='password', database='SuperComputers')\n",
    "\n",
    "cursor = db.cursor()"
   ]
  },
  {
   "cell_type": "code",
   "execution_count": 25,
   "metadata": {},
   "outputs": [],
   "source": [
    "# create table\n",
    "\n",
    "\n",
    "cursor.execute('use SuperComputers;')\n",
    "\n",
    "cursor.execute(\"drop table if exists top_500;\") \n",
    "\n",
    "table = '''create table top_500(\n",
    "           ranking int,\n",
    "           name text, \n",
    "           year int,\n",
    "           description text,\n",
    "           company text,\n",
    "           country text, \n",
    "           cores int, \n",
    "           rmax float,\n",
    "           rpeak float,\n",
    "           power int);'''\n",
    "\n",
    "cursor.execute(table)\n"
   ]
  },
  {
   "cell_type": "code",
   "execution_count": 26,
   "metadata": {},
   "outputs": [
    {
     "name": "stdout",
     "output_type": "stream",
     "text": [
      "('top_500',)\n"
     ]
    }
   ],
   "source": [
    "# checking\n",
    "\n",
    "cursor.execute('show tables')\n",
    "for x in cursor:\n",
    "  print(x) "
   ]
  },
  {
   "cell_type": "code",
   "execution_count": 27,
   "metadata": {},
   "outputs": [],
   "source": [
    "# insert query\n",
    "\n",
    "for i in range(len(results)):\n",
    "    insert_query = 'insert into {} ({}) values {};'\\\n",
    "                   .format('top_500', ','.join(results[i].keys()), tuple(results[i].values()))\n",
    "\n",
    "    cursor.execute(insert_query)\n",
    "    \n",
    "db.commit()"
   ]
  },
  {
   "cell_type": "code",
   "execution_count": 28,
   "metadata": {},
   "outputs": [
    {
     "name": "stdout",
     "output_type": "stream",
     "text": [
      "(1, 'Tianhe-2A', 2014, 'National Super Computer Center in Guangzhou Cluster  Intel Xeon E5-2692 12C 2.200GHz  TH Express-2', 'NUDT', 'China', 3120000, 33862.7, 54902.4, 17808)\n",
      "(2, 'Titan', 2014, 'DOE/SC/Oak Ridge National Laboratory XK7  Opteron 6274 16C 2.200GHz  Cray Gemini interconnect', 'Cray Inc.', 'United States', 560640, 17590.0, 27112.5, 8209)\n"
     ]
    }
   ],
   "source": [
    "# checking\n",
    "\n",
    "cursor.execute('select * from top_500 limit 2')\n",
    "for x in cursor:\n",
    "  print(x) "
   ]
  },
  {
   "cell_type": "markdown",
   "metadata": {},
   "source": [
    "# TOP 500 supercomputer mining - Challenge 2\n",
    "\n",
    "In this challenge use Pandas to read the search results data in your MySQL table. Create a DataFrame that contains all the search results, then generate a data visualization plot (or several) from the DataFrame.\n",
    "\n",
    "Try to answer the following questions:\n",
    "\n",
    "* Is there a relationship between year and consumed power?\n",
    "* And between power and cores?\n",
    "* Which is the company with more supercomputers?\n",
    "* Which country have more computacional power?\n",
    "* The computacional power has increased over the years?"
   ]
  },
  {
   "cell_type": "code",
   "execution_count": 1,
   "metadata": {},
   "outputs": [],
   "source": [
    "import mysql.connector \n",
    "import pandas as pd                   \n",
    "import matplotlib.pyplot as plt\n",
    "%matplotlib inline\n",
    "import seaborn as sns"
   ]
  },
  {
   "cell_type": "code",
   "execution_count": 3,
   "metadata": {},
   "outputs": [
    {
     "ename": "ProgrammingError",
     "evalue": "1049 (42000): Unknown database 'SuperComputers'",
     "output_type": "error",
     "traceback": [
      "\u001b[0;31m---------------------------------------------------------------------------\u001b[0m",
      "\u001b[0;31mMySQLInterfaceError\u001b[0m                       Traceback (most recent call last)",
      "\u001b[0;32m~/anaconda3/lib/python3.8/site-packages/mysql/connector/connection_cext.py\u001b[0m in \u001b[0;36m_open_connection\u001b[0;34m(self)\u001b[0m\n\u001b[1;32m    232\u001b[0m         \u001b[0;32mtry\u001b[0m\u001b[0;34m:\u001b[0m\u001b[0;34m\u001b[0m\u001b[0;34m\u001b[0m\u001b[0m\n\u001b[0;32m--> 233\u001b[0;31m             \u001b[0mself\u001b[0m\u001b[0;34m.\u001b[0m\u001b[0m_cmysql\u001b[0m\u001b[0;34m.\u001b[0m\u001b[0mconnect\u001b[0m\u001b[0;34m(\u001b[0m\u001b[0;34m**\u001b[0m\u001b[0mcnx_kwargs\u001b[0m\u001b[0;34m)\u001b[0m\u001b[0;34m\u001b[0m\u001b[0;34m\u001b[0m\u001b[0m\n\u001b[0m\u001b[1;32m    234\u001b[0m         \u001b[0;32mexcept\u001b[0m \u001b[0mMySQLInterfaceError\u001b[0m \u001b[0;32mas\u001b[0m \u001b[0mexc\u001b[0m\u001b[0;34m:\u001b[0m\u001b[0;34m\u001b[0m\u001b[0;34m\u001b[0m\u001b[0m\n",
      "\u001b[0;31mMySQLInterfaceError\u001b[0m: Unknown database 'SuperComputers'",
      "\nDuring handling of the above exception, another exception occurred:\n",
      "\u001b[0;31mProgrammingError\u001b[0m                          Traceback (most recent call last)",
      "\u001b[0;32m<ipython-input-3-2796571e2cbf>\u001b[0m in \u001b[0;36m<module>\u001b[0;34m\u001b[0m\n\u001b[0;32m----> 1\u001b[0;31m \u001b[0mdb\u001b[0m \u001b[0;34m=\u001b[0m \u001b[0mmysql\u001b[0m\u001b[0;34m.\u001b[0m\u001b[0mconnector\u001b[0m\u001b[0;34m.\u001b[0m\u001b[0mconnect\u001b[0m\u001b[0;34m(\u001b[0m\u001b[0mhost\u001b[0m\u001b[0;34m=\u001b[0m\u001b[0;34m'localhost'\u001b[0m\u001b[0;34m,\u001b[0m \u001b[0muser\u001b[0m\u001b[0;34m=\u001b[0m\u001b[0;34m'root'\u001b[0m\u001b[0;34m,\u001b[0m \u001b[0mpasswd\u001b[0m\u001b[0;34m=\u001b[0m\u001b[0;34m'password'\u001b[0m\u001b[0;34m,\u001b[0m \u001b[0mdatabase\u001b[0m\u001b[0;34m=\u001b[0m\u001b[0;34m'SuperComputers'\u001b[0m\u001b[0;34m)\u001b[0m\u001b[0;34m\u001b[0m\u001b[0;34m\u001b[0m\u001b[0m\n\u001b[0m\u001b[1;32m      2\u001b[0m \u001b[0;34m\u001b[0m\u001b[0m\n\u001b[1;32m      3\u001b[0m \u001b[0mcursor\u001b[0m \u001b[0;34m=\u001b[0m \u001b[0mdb\u001b[0m\u001b[0;34m.\u001b[0m\u001b[0mcursor\u001b[0m\u001b[0;34m(\u001b[0m\u001b[0;34m)\u001b[0m\u001b[0;34m\u001b[0m\u001b[0;34m\u001b[0m\u001b[0m\n\u001b[1;32m      4\u001b[0m \u001b[0;34m\u001b[0m\u001b[0m\n\u001b[1;32m      5\u001b[0m \u001b[0mcursor\u001b[0m\u001b[0;34m.\u001b[0m\u001b[0mexecute\u001b[0m\u001b[0;34m(\u001b[0m\u001b[0;34m'select * from top_500'\u001b[0m\u001b[0;34m)\u001b[0m\u001b[0;34m\u001b[0m\u001b[0;34m\u001b[0m\u001b[0m\n",
      "\u001b[0;32m~/anaconda3/lib/python3.8/site-packages/mysql/connector/__init__.py\u001b[0m in \u001b[0;36mconnect\u001b[0;34m(*args, **kwargs)\u001b[0m\n\u001b[1;32m    268\u001b[0m \u001b[0;34m\u001b[0m\u001b[0m\n\u001b[1;32m    269\u001b[0m     \u001b[0;32mif\u001b[0m \u001b[0mHAVE_CEXT\u001b[0m \u001b[0;32mand\u001b[0m \u001b[0;32mnot\u001b[0m \u001b[0muse_pure\u001b[0m\u001b[0;34m:\u001b[0m\u001b[0;34m\u001b[0m\u001b[0;34m\u001b[0m\u001b[0m\n\u001b[0;32m--> 270\u001b[0;31m         \u001b[0;32mreturn\u001b[0m \u001b[0mCMySQLConnection\u001b[0m\u001b[0;34m(\u001b[0m\u001b[0;34m*\u001b[0m\u001b[0margs\u001b[0m\u001b[0;34m,\u001b[0m \u001b[0;34m**\u001b[0m\u001b[0mkwargs\u001b[0m\u001b[0;34m)\u001b[0m\u001b[0;34m\u001b[0m\u001b[0;34m\u001b[0m\u001b[0m\n\u001b[0m\u001b[1;32m    271\u001b[0m     \u001b[0;32mreturn\u001b[0m \u001b[0mMySQLConnection\u001b[0m\u001b[0;34m(\u001b[0m\u001b[0;34m*\u001b[0m\u001b[0margs\u001b[0m\u001b[0;34m,\u001b[0m \u001b[0;34m**\u001b[0m\u001b[0mkwargs\u001b[0m\u001b[0;34m)\u001b[0m\u001b[0;34m\u001b[0m\u001b[0;34m\u001b[0m\u001b[0m\n\u001b[1;32m    272\u001b[0m \u001b[0mConnect\u001b[0m \u001b[0;34m=\u001b[0m \u001b[0mconnect\u001b[0m  \u001b[0;31m# pylint: disable=C0103\u001b[0m\u001b[0;34m\u001b[0m\u001b[0;34m\u001b[0m\u001b[0m\n",
      "\u001b[0;32m~/anaconda3/lib/python3.8/site-packages/mysql/connector/connection_cext.py\u001b[0m in \u001b[0;36m__init__\u001b[0;34m(self, **kwargs)\u001b[0m\n\u001b[1;32m     84\u001b[0m \u001b[0;34m\u001b[0m\u001b[0m\n\u001b[1;32m     85\u001b[0m         \u001b[0;32mif\u001b[0m \u001b[0mkwargs\u001b[0m\u001b[0;34m:\u001b[0m\u001b[0;34m\u001b[0m\u001b[0;34m\u001b[0m\u001b[0m\n\u001b[0;32m---> 86\u001b[0;31m             \u001b[0mself\u001b[0m\u001b[0;34m.\u001b[0m\u001b[0mconnect\u001b[0m\u001b[0;34m(\u001b[0m\u001b[0;34m**\u001b[0m\u001b[0mkwargs\u001b[0m\u001b[0;34m)\u001b[0m\u001b[0;34m\u001b[0m\u001b[0;34m\u001b[0m\u001b[0m\n\u001b[0m\u001b[1;32m     87\u001b[0m \u001b[0;34m\u001b[0m\u001b[0m\n\u001b[1;32m     88\u001b[0m     \u001b[0;32mdef\u001b[0m \u001b[0m_add_default_conn_attrs\u001b[0m\u001b[0;34m(\u001b[0m\u001b[0mself\u001b[0m\u001b[0;34m)\u001b[0m\u001b[0;34m:\u001b[0m\u001b[0;34m\u001b[0m\u001b[0;34m\u001b[0m\u001b[0m\n",
      "\u001b[0;32m~/anaconda3/lib/python3.8/site-packages/mysql/connector/abstracts.py\u001b[0m in \u001b[0;36mconnect\u001b[0;34m(self, **kwargs)\u001b[0m\n\u001b[1;32m    983\u001b[0m \u001b[0;34m\u001b[0m\u001b[0m\n\u001b[1;32m    984\u001b[0m         \u001b[0mself\u001b[0m\u001b[0;34m.\u001b[0m\u001b[0mdisconnect\u001b[0m\u001b[0;34m(\u001b[0m\u001b[0;34m)\u001b[0m\u001b[0;34m\u001b[0m\u001b[0;34m\u001b[0m\u001b[0m\n\u001b[0;32m--> 985\u001b[0;31m         \u001b[0mself\u001b[0m\u001b[0;34m.\u001b[0m\u001b[0m_open_connection\u001b[0m\u001b[0;34m(\u001b[0m\u001b[0;34m)\u001b[0m\u001b[0;34m\u001b[0m\u001b[0;34m\u001b[0m\u001b[0m\n\u001b[0m\u001b[1;32m    986\u001b[0m         \u001b[0;31m# Server does not allow to run any other statement different from ALTER\u001b[0m\u001b[0;34m\u001b[0m\u001b[0;34m\u001b[0m\u001b[0;34m\u001b[0m\u001b[0m\n\u001b[1;32m    987\u001b[0m         \u001b[0;31m# when user's password has been expired.\u001b[0m\u001b[0;34m\u001b[0m\u001b[0;34m\u001b[0m\u001b[0;34m\u001b[0m\u001b[0m\n",
      "\u001b[0;32m~/anaconda3/lib/python3.8/site-packages/mysql/connector/connection_cext.py\u001b[0m in \u001b[0;36m_open_connection\u001b[0;34m(self)\u001b[0m\n\u001b[1;32m    233\u001b[0m             \u001b[0mself\u001b[0m\u001b[0;34m.\u001b[0m\u001b[0m_cmysql\u001b[0m\u001b[0;34m.\u001b[0m\u001b[0mconnect\u001b[0m\u001b[0;34m(\u001b[0m\u001b[0;34m**\u001b[0m\u001b[0mcnx_kwargs\u001b[0m\u001b[0;34m)\u001b[0m\u001b[0;34m\u001b[0m\u001b[0;34m\u001b[0m\u001b[0m\n\u001b[1;32m    234\u001b[0m         \u001b[0;32mexcept\u001b[0m \u001b[0mMySQLInterfaceError\u001b[0m \u001b[0;32mas\u001b[0m \u001b[0mexc\u001b[0m\u001b[0;34m:\u001b[0m\u001b[0;34m\u001b[0m\u001b[0;34m\u001b[0m\u001b[0m\n\u001b[0;32m--> 235\u001b[0;31m             raise errors.get_mysql_exception(msg=exc.msg, errno=exc.errno,\n\u001b[0m\u001b[1;32m    236\u001b[0m                                              sqlstate=exc.sqlstate)\n\u001b[1;32m    237\u001b[0m \u001b[0;34m\u001b[0m\u001b[0m\n",
      "\u001b[0;31mProgrammingError\u001b[0m: 1049 (42000): Unknown database 'SuperComputers'"
     ]
    }
   ],
   "source": [
    "db = mysql.connector.connect(host='localhost', user='root', passwd='password', database='SuperComputers')\n",
    "\n",
    "cursor = db.cursor()\n",
    "\n",
    "cursor.execute('select * from top_500')\n",
    "\n",
    "data = cursor.fetchall()"
   ]
  },
  {
   "cell_type": "code",
   "execution_count": null,
   "metadata": {},
   "outputs": [],
   "source": [
    "df = pd.DataFrame(data, columns=cursor.column_names)\n",
    "\n",
    "print ('Data readed from MySQL.')\n",
    "\n",
    "display (df.head())"
   ]
  },
  {
   "cell_type": "code",
   "execution_count": null,
   "metadata": {},
   "outputs": [],
   "source": [
    "df.info()"
   ]
  },
  {
   "cell_type": "code",
   "execution_count": null,
   "metadata": {},
   "outputs": [],
   "source": [
    "df.describe()"
   ]
  },
  {
   "cell_type": "code",
   "execution_count": null,
   "metadata": {},
   "outputs": [],
   "source": [
    "plt.figure(figsize=(15,10))\n",
    "plt.title('Correlation')\n",
    "sns.heatmap(df.corr(), annot=True);"
   ]
  },
  {
   "cell_type": "markdown",
   "metadata": {},
   "source": [
    "# Is there a relationship between year and power?"
   ]
  },
  {
   "cell_type": "code",
   "execution_count": null,
   "metadata": {},
   "outputs": [],
   "source": [
    "by_year=df.groupby('year').sum()\n",
    "plt.figure(figsize=(10,7))\n",
    "plt.title('kW consumed by year')\n",
    "plt.ylabel('kW')\n",
    "by_year.power.plot.bar();"
   ]
  },
  {
   "cell_type": "code",
   "execution_count": null,
   "metadata": {},
   "outputs": [],
   "source": [
    "df_year_kw=df[['year', 'power']]\n",
    "plt.figure(figsize=(10,7))\n",
    "plt.title('Correlation power-year')\n",
    "sns.heatmap(df_year_kw.corr(), annot=True);"
   ]
  },
  {
   "cell_type": "markdown",
   "metadata": {},
   "source": [
    "Apparently, there is no correlation between year and consumed power, but from 2016 to 2018 the power needed for the top 500 supercomputers has descended, almost to 2014 levels.\n"
   ]
  },
  {
   "cell_type": "markdown",
   "metadata": {},
   "source": [
    "# Is there a relationship between power and cores?"
   ]
  },
  {
   "cell_type": "code",
   "execution_count": null,
   "metadata": {},
   "outputs": [],
   "source": [
    "plt.figure(figsize=(10,7))\n",
    "plt.title('Correlation power-cores (Pearson)')\n",
    "sns.heatmap(df[['power', 'cores']].corr(method='pearson'), annot=True);"
   ]
  },
  {
   "cell_type": "code",
   "execution_count": null,
   "metadata": {},
   "outputs": [],
   "source": [
    "plt.figure(figsize=(10,7))\n",
    "plt.title('Correlation power-cores (Spearman)')\n",
    "sns.heatmap(df[['power', 'cores']].corr(method='spearman'), annot=True);"
   ]
  },
  {
   "cell_type": "code",
   "execution_count": null,
   "metadata": {},
   "outputs": [],
   "source": [
    "plt.figure(figsize=(10,7))\n",
    "plt.title('Correlation power-cores (Kendall)')\n",
    "sns.heatmap(df[['power', 'cores']].corr(method='kendall'), annot=True);"
   ]
  },
  {
   "cell_type": "markdown",
   "metadata": {},
   "source": [
    "Seems like there is linear and non-linear correlation between power and cores, not much significant, but Pearson correlation in 0.36 and Spearman correlation in 0.47, meaning that to increase cores in a computer implies more power requeriments."
   ]
  },
  {
   "cell_type": "markdown",
   "metadata": {},
   "source": [
    "# Which is the company with more supercomputers?"
   ]
  },
  {
   "cell_type": "code",
   "execution_count": null,
   "metadata": {},
   "outputs": [],
   "source": [
    "df.company.value_counts().head()"
   ]
  },
  {
   "cell_type": "markdown",
   "metadata": {},
   "source": [
    "The 5 companies with more supercomputers are HPE, Lenovo, CRay Inc., IBM and Sugon."
   ]
  },
  {
   "cell_type": "markdown",
   "metadata": {},
   "source": [
    "# Which country have more computacional power?"
   ]
  },
  {
   "cell_type": "code",
   "execution_count": null,
   "metadata": {},
   "outputs": [],
   "source": [
    "by_country=df.groupby('country').sum().reset_index()\n",
    "by_country.head()"
   ]
  },
  {
   "cell_type": "code",
   "execution_count": null,
   "metadata": {},
   "outputs": [],
   "source": [
    "by_country.loc[by_country.rmax==list(by_country.rmax.sort_values(ascending=False))[0]].country"
   ]
  },
  {
   "cell_type": "code",
   "execution_count": null,
   "metadata": {},
   "outputs": [],
   "source": [
    "by_country.loc[by_country.rpeak==list(by_country.rpeak.sort_values(ascending=False))[0]].country"
   ]
  },
  {
   "cell_type": "code",
   "execution_count": null,
   "metadata": {},
   "outputs": [],
   "source": [
    "by_country.loc[by_country.cores==list(by_country.cores.sort_values(ascending=False))[0]].country"
   ]
  },
  {
   "cell_type": "markdown",
   "metadata": {},
   "source": [
    "The country with the highest R-Max is USA, but the country with more R-Peak and more cores is China."
   ]
  },
  {
   "cell_type": "markdown",
   "metadata": {},
   "source": [
    "# The computacional power has increased over the years?"
   ]
  },
  {
   "cell_type": "code",
   "execution_count": null,
   "metadata": {},
   "outputs": [],
   "source": [
    "plt.figure(figsize=(10,7))\n",
    "plt.title('R-max (TFlops/s) by year')\n",
    "plt.ylabel('R-Max')\n",
    "by_year.rmax.plot.bar();"
   ]
  },
  {
   "cell_type": "code",
   "execution_count": null,
   "metadata": {},
   "outputs": [],
   "source": [
    "plt.figure(figsize=(10,7))\n",
    "plt.title('R-peak (TFlops/s) by year')\n",
    "plt.ylabel('R-peak')\n",
    "by_year.rpeak.plot.bar();"
   ]
  },
  {
   "cell_type": "code",
   "execution_count": null,
   "metadata": {},
   "outputs": [],
   "source": [
    "plt.figure(figsize=(10,7))\n",
    "plt.title('Cores by year')\n",
    "plt.ylabel('Cores')\n",
    "by_year.cores.plot.bar();"
   ]
  },
  {
   "cell_type": "markdown",
   "metadata": {},
   "source": [
    "R-Max and R-Peak are increasing over the years. However, the cores number in 2018 are less than in previous years."
   ]
  }
 ],
 "metadata": {
  "kernelspec": {
   "display_name": "Python 3",
   "language": "python",
   "name": "python3"
  },
  "language_info": {
   "codemirror_mode": {
    "name": "ipython",
    "version": 3
   },
   "file_extension": ".py",
   "mimetype": "text/x-python",
   "name": "python",
   "nbconvert_exporter": "python",
   "pygments_lexer": "ipython3",
   "version": "3.8.3"
  }
 },
 "nbformat": 4,
 "nbformat_minor": 2
}
